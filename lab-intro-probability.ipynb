{
 "cells": [
  {
   "cell_type": "markdown",
   "metadata": {},
   "source": [
    "# Lab | Intro to Probability"
   ]
  },
  {
   "cell_type": "markdown",
   "metadata": {},
   "source": [
    "**Objective**\n",
    "\n",
    "Welcome to this Intro to Probability lab, where we explore decision-making scenarios through the lens of probability and strategic analysis. In the business world, making informed decisions is crucial, especially when faced with uncertainties. This lab focuses on scenarios where probabilistic outcomes play a significant role in shaping strategies and outcomes. Students will engage in exercises that require assessing and choosing optimal paths based on data-driven insights. The goal is to enhance your skills by applying probability concepts to solve real-world problems."
   ]
  },
  {
   "cell_type": "code",
   "execution_count": 3,
   "metadata": {},
   "outputs": [],
   "source": [
    "#Libraries\n",
    "import pandas as pd\n",
    "import numpy as np\n",
    "import matplotlib.pyplot as plt\n",
    "import scipy.stats as st\n",
    "\n",
    "%matplotlib inline"
   ]
  },
  {
   "cell_type": "markdown",
   "metadata": {},
   "source": [
    "**Challenge 1**"
   ]
  },
  {
   "cell_type": "markdown",
   "metadata": {},
   "source": [
    "#### Ironhack Airlines \n",
    "\n",
    "Often Airlines sell more tickets than they have seats available, this is called overbooking. Consider the following:\n",
    "- A plane has 450 seats. \n",
    "- Based on historical data we conclude that each individual passenger has a 3% chance of missing it's flight. \n",
    "\n",
    "If the Ironhack Airlines routinely sells 460 tickets, what is the chance that they have a seats for all passenger?"
   ]
  },
  {
   "cell_type": "code",
   "execution_count": 13,
   "metadata": {},
   "outputs": [
    {
     "name": "stdout",
     "output_type": "stream",
     "text": [
      "There's a 88.0% chance that Ironhack Airlines will have a seat for all pasengers if they sell 460 tickets to a plane with only 450 seats\n"
     ]
    }
   ],
   "source": [
    "# Binomial Distribution - When dealing with an experiment that can only take on TWO possible outcomes ('success or fail'), \n",
    "# the probability of having k successes in n independent trials with individual success probability p\n",
    "\n",
    "# OJO: 'success' is a loose concept here to mean quasi 'correct signal', what I WANT to happen/ what I am counting\n",
    "\n",
    "# the prob. of a passenger showing up is 1 - p = 0.97 (fail rate)\n",
    "# 460 - 450 = 10 passengers should not show up for all passengers to have a seat\n",
    "\n",
    "k = 10 # of passengers who ideally not show up so all 450 passengers have a seat -> # of 'sucess'\n",
    "n = 460 # of tickets sold\n",
    "p = 0.03 # probability of each indiv. passenger missing the flight -> 3% 'success'\n",
    "\n",
    "# {binom.pmf(k, n, p): .2f} -> example code in the Intro to Prob. lab\n",
    "# the : .2f is basically rounding the output to two digits after the decimal & tthat only works with f.strings hence the { }\n",
    "# binom.pmf with a k of 10 is calc. the prob. of EXACTLY 10 ppl not showing up b/c pmf deals with indep. prob. (1/6th of a die regardless of #)\n",
    "# pmf (prob. mass func.)- a discrete version of a pdf - which means it equals to 1 [ALL prob. = 1 !!!]\n",
    "# pdf (prob. density func.) would be with continuous var.\n",
    "# this means we would need to calc. the pmf of EACH instance, meaning 10, 11, 12...until 460 ppl not showing up -> cdf(460) would = 1\n",
    "# binom.cdf deals with cumulative prob. (meaning the prob. accumulates per event), ie either this OR this)\n",
    "# knowing all the above means we could more effectively do 1 - binom.cdf(9) cause we want to take out the cumulative prob. of 9 ppl not showing up\n",
    "# binom.cdf(460) = 1 - binom.cdf(9) = pmf(10...to 460)\n",
    "\n",
    "\n",
    "c1 = (round(1 - st.binom.cdf((k-1), n, p), 2)*100)\n",
    "print(f\"There's a {c1}% chance that Ironhack Airlines will have a seat for all pasengers if they sell 460 tickets to a plane with only 450 seats\")"
   ]
  },
  {
   "cell_type": "markdown",
   "metadata": {},
   "source": [
    "**Challenge 2**"
   ]
  },
  {
   "cell_type": "markdown",
   "metadata": {},
   "source": [
    "#### Ironhack Call Center "
   ]
  },
  {
   "cell_type": "markdown",
   "metadata": {},
   "source": [
    "Suppose a customer service representative at a call center is handling customer complaints. Consider the following:\n",
    "- The probability of successfully resolving a customer complaint on the first attempt is 0.3. \n",
    "\n",
    "\n",
    "What is the probability that the representative needs to make at least three attempts before successfully resolving a customer complaint?"
   ]
  },
  {
   "cell_type": "code",
   "execution_count": 19,
   "metadata": {},
   "outputs": [
    {
     "name": "stdout",
     "output_type": "stream",
     "text": [
      "The prob. that the rep needs to make at least 3 attempts before successfully resolving a cust. complaint is 49.0%\n"
     ]
    }
   ],
   "source": [
    "prob = 0.3 # of getting the first attempt right...& for each attempt it's that for some reason\n",
    "neg_prob = 1 - prob # prob. of not getting first attempt right\n",
    "\n",
    "# Approach: Prob of SUCCESS (roughly accumulate the yes's & subtract from 1)\n",
    "\n",
    "# right on the 1st attempt = 0.3%...so right on the second attempt is 70% AND 30% (so .7 * .3)...\n",
    "# ... this means to be right on the 3rd attempt is 70% * 70% * 30% (so .7 * .7 * .3)...\n",
    "# ... but since we are looking for AT LEAST 3 attempts we gotta figure out getting it right from 3 attempts to infinity attempts\n",
    "# ... so what we can do is subtract the prob. of needing 1 OR needing 2 attempts from 1 (total prob. space)... OR means add\n",
    "# ... this gives us 1 - (prob. of needing 1 attempt = .3) + (prob. of needing 2 attempts = .7 * .3)\n",
    "\n",
    "at_least_3_prob = ((1 - (prob + (neg_prob * prob)))*100)\n",
    "print(f\"The prob. that the rep needs to make at least 3 attempts before successfully resolving a cust. complaint is {at_least_3_prob}%\")"
   ]
  },
  {
   "cell_type": "code",
   "execution_count": 53,
   "metadata": {},
   "outputs": [
    {
     "data": {
      "text/plain": [
       "0.49"
      ]
     },
     "execution_count": 53,
     "metadata": {},
     "output_type": "execute_result"
    }
   ],
   "source": [
    "# Approach: Prob of FAILURE (accumulateing no's, then stop cause the rest is 'success')\n",
    "\n",
    "# Another way to think of this is the rep needs to FAIL twice before we count the rest as success\n",
    "# this would be .7 AND .7 which gives the prob of failing twice in a row\n",
    "# we don't subtract from the total prob space because we are approaching it \n",
    "alt_way = neg_prob * neg_prob\n",
    "round(alt_way,2)"
   ]
  },
  {
   "cell_type": "markdown",
   "metadata": {},
   "source": [
    "**Challenge 3**"
   ]
  },
  {
   "cell_type": "markdown",
   "metadata": {},
   "source": [
    "#### Ironhack Website"
   ]
  },
  {
   "cell_type": "markdown",
   "metadata": {},
   "source": [
    "Consider a scenario related to Ironhack website traffic. Where:\n",
    "- our website takes on average 500 visits per hour.\n",
    "- the website's server is designed to handle up to 550 vists per hour.\n",
    "\n",
    "\n",
    "What is the probability of the website server being overwhelmed?"
   ]
  },
  {
   "cell_type": "code",
   "execution_count": 39,
   "metadata": {},
   "outputs": [
    {
     "name": "stdout",
     "output_type": "stream",
     "text": [
      "The prob. of the website server being overwhelmed is  0.013%\n"
     ]
    }
   ],
   "source": [
    "avg_visits = 500 #visits per hour\n",
    "s_capacity = 550 #visits per hour\n",
    "\n",
    "# what is the cumulative prob leading up to 550; CDF(550) = the prob the # of visits per hour is 550 or less?\n",
    "c3_cdf = st.poisson.cdf(s_capacity, avg_visits)\n",
    "\n",
    "# what is the prob. that is is more than 550 which means 1 - c3_cdf\n",
    "c3 = 1 - c3_cdf\n",
    "print(f\"The prob. of the website server being overwhelmed is {c3: .3f}%\")"
   ]
  },
  {
   "cell_type": "markdown",
   "metadata": {},
   "source": [
    "What is the probability of being overwhelmed at some point during a day? (consider 24hours)"
   ]
  },
  {
   "cell_type": "code",
   "execution_count": 38,
   "metadata": {},
   "outputs": [
    {
     "name": "stdout",
     "output_type": "stream",
     "text": [
      "The prob. of the website server being overwhelmed at some point during a 24 hour day is  0.27%\n"
     ]
    }
   ],
   "source": [
    "# not being overwhelmed in 24 hours\n",
    "twentyfourhours = c3_cdf ** 24\n",
    "\n",
    "# being overwhelmed at least once in 24 hours\n",
    "oncein24 = 1 - twentyfourhours\n",
    "\n",
    "print(f\"The prob. of the website server being overwhelmed at some point during a 24 hour day is {oncein24: .2f}%\")"
   ]
  },
  {
   "cell_type": "markdown",
   "metadata": {},
   "source": [
    "**Challenge 4**"
   ]
  },
  {
   "cell_type": "markdown",
   "metadata": {},
   "source": [
    "#### Ironhack Helpdesk"
   ]
  },
  {
   "cell_type": "markdown",
   "metadata": {},
   "source": [
    "Consider a scenario related to the time between arrivals of customers at a service desk.\n",
    "\n",
    "On average, a customers arrives every 10minutes.\n",
    "\n",
    "What is the probability that the next customer will arrive within the next 5 minutes?"
   ]
  },
  {
   "cell_type": "code",
   "execution_count": 34,
   "metadata": {},
   "outputs": [
    {
     "data": {
      "text/plain": [
       "0.3934693402873666"
      ]
     },
     "execution_count": 34,
     "metadata": {},
     "output_type": "execute_result"
    }
   ],
   "source": [
    "#the parameter represents the rate of events occuring per unit of time\n",
    "lambda_value = 0.1\n",
    "\n",
    "lambda_inv = st.expon(scale = 1/lambda_value)\n",
    "\n",
    "lambda_inv.cdf(5)"
   ]
  },
  {
   "cell_type": "markdown",
   "metadata": {},
   "source": [
    "If there is no customer for 15minutes, employees can that a 5minutes break.\n",
    "\n",
    "What is the probability an employee taking a break?"
   ]
  },
  {
   "cell_type": "code",
   "execution_count": 35,
   "metadata": {},
   "outputs": [
    {
     "data": {
      "text/plain": [
       "0.22313016014842982"
      ]
     },
     "execution_count": 35,
     "metadata": {},
     "output_type": "execute_result"
    }
   ],
   "source": [
    "st.expon.sf(15, scale=1/lambda_value)"
   ]
  },
  {
   "cell_type": "markdown",
   "metadata": {},
   "source": [
    "**Challenge 5**"
   ]
  },
  {
   "cell_type": "markdown",
   "metadata": {},
   "source": [
    "The weights of a certain species of birds follow a normal distribution with a mean weight of 150 grams and a standard deviation of 10 grams. \n",
    "\n",
    "- If we randomly select a bird, what is the probability that its weight is between 140 and 160 grams?"
   ]
  },
  {
   "cell_type": "code",
   "execution_count": 48,
   "metadata": {},
   "outputs": [
    {
     "name": "stdout",
     "output_type": "stream",
     "text": [
      "The probability that a bird's weight is between 140 and 160 grams is: 68.27%\n"
     ]
    }
   ],
   "source": [
    "import scipy.stats as stats\n",
    "\n",
    "mean_bird_weight = 150\n",
    "std_bird_weight = 10\n",
    "\n",
    "z_140 = (140 - mean_bird_weight) / std_bird_weight \n",
    "z_160 = (160 - mean_bird_weight) / std_bird_weight \n",
    "\n",
    "prob_140 = stats.norm.cdf(z_140)\n",
    "prob_160 = stats.norm.cdf(z_160)\n",
    "\n",
    "bird_prob = (prob_160 - prob_140)*100\n",
    "print(f\"The probability that a bird's weight is between 140 and 160 grams is: {bird_prob:.2f}%\")"
   ]
  },
  {
   "cell_type": "markdown",
   "metadata": {},
   "source": [
    "**Challenge 6**"
   ]
  },
  {
   "cell_type": "markdown",
   "metadata": {},
   "source": [
    "If the lifetime (in hours) of a certain electronic component follows an exponential distribution with a mean lifetime of 50 hours, what is the probability that the component fails within the first 30 hours?"
   ]
  },
  {
   "cell_type": "code",
   "execution_count": 50,
   "metadata": {},
   "outputs": [
    {
     "name": "stdout",
     "output_type": "stream",
     "text": [
      "The probability that the component fails within the first 30 hours is: 45.12\n"
     ]
    }
   ],
   "source": [
    "mean_lifetime = 50\n",
    "lambda_param = 1 / mean_lifetime\n",
    "time = 30\n",
    "\n",
    "# Calculate the probability using the exponential CDF\n",
    "probability = stats.expon.cdf(time, scale=1/lambda_param) *100\n",
    "\n",
    "print(f\"The probability that the component fails within the first 30 hours is: {probability:.2f}\")"
   ]
  },
  {
   "cell_type": "code",
   "execution_count": null,
   "metadata": {},
   "outputs": [],
   "source": []
  }
 ],
 "metadata": {
  "kernelspec": {
   "display_name": "Python 3 (ipykernel)",
   "language": "python",
   "name": "python3"
  },
  "language_info": {
   "codemirror_mode": {
    "name": "ipython",
    "version": 3
   },
   "file_extension": ".py",
   "mimetype": "text/x-python",
   "name": "python",
   "nbconvert_exporter": "python",
   "pygments_lexer": "ipython3",
   "version": "3.11.9"
  }
 },
 "nbformat": 4,
 "nbformat_minor": 4
}
